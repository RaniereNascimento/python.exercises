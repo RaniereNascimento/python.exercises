{
  "nbformat": 4,
  "nbformat_minor": 0,
  "metadata": {
    "colab": {
      "name": "votacao.ipynb",
      "provenance": [],
      "collapsed_sections": []
    },
    "kernelspec": {
      "name": "python3",
      "display_name": "Python 3"
    },
    "language_info": {
      "name": "python"
    }
  },
  "cells": [
    {
      "cell_type": "code",
      "execution_count": 7,
      "metadata": {
        "colab": {
          "base_uri": "https://localhost:8080/"
        },
        "id": "GYxDVO2-rxlE",
        "outputId": "6cd03ab5-33c4-4896-b53a-e8f121b33f79"
      },
      "outputs": [
        {
          "output_type": "stream",
          "name": "stdout",
          "text": [
            "O total de 40 pessoas responderam à pesquisa.\n",
            "\n",
            "\n",
            "Dentre as quais: \n",
            "\n",
            "_________________________________________________________\n",
            "30.0 % das pessoas escolheram ' Engenharia de Software .'\n",
            "quantidade de votos: 12\n",
            "\n",
            "\n",
            "50.0 % das pessoas escolheram ' Python para Data Science .'\n",
            "quantidade de votos 20\n",
            "\n",
            "\n",
            "20.0 % das pessoas escolheram ' Introdução a Java .'\n",
            "quantidade de votos: 8\n",
            "\n",
            "\n",
            "_________________________________________________________\n",
            "\n",
            "O curso Python para Data Science foi o escolhido pela votação\n"
          ]
        }
      ],
      "source": [
        "# Segundo a proposta apresentada temos a seguinte lista, em que os índices representam os seguintes cursos:\n",
        "\n",
        "\n",
        "cursos = [\n",
        "  'Engenharia de Software',\n",
        "  'Python para Data Science',\n",
        "  'Introdução a Java'\n",
        "]\n",
        "\n",
        "respostas =[]\n",
        "\n",
        "\n",
        "#Com base na lista de dados coletados na pesquisa\n",
        "respostas = [1, 2, 0, 1, 1, 1, 1, 0, 0, 2, 2, 0, 1, 1,\n",
        "  1, 1, 2, 0, 1, 1, 0, 1, 0, 2, 1, 1, 0, 2,\n",
        "  2, 1, 0, 1, 1, 0, 0, 0, 1, 1, 2, 1\n",
        "]\n",
        "\n",
        "# Contando a quantidade de itens contidas na lista de respostas através da função len()\n",
        "print(\"O total de\", len(respostas), \"pessoas responderam à pesquisa.\")\n",
        "print(\"\")\n",
        "print(\"\")\n",
        "print(\"Dentre as quais: \")\n",
        "print(\"\")\n",
        "print(\"_________________________________________________________\")\n",
        "\n",
        "#Contando a quantidade individual de cada item da lista\n",
        "#O valor n equivale ao número inteiro enquanto que o valor r equivale ao valor convertido em porcentagem.\n",
        "#O valor em porcentagem pode ser obtido através de regra de três simples.\n",
        "\n",
        "if 0 in respostas:\n",
        "  n1 =respostas.count(0)\n",
        "  r1= float(n1 * 2.5)\n",
        "  print(r1 ,\"%\", \"das pessoas escolheram\", \"'\",cursos[0],\".'\")\n",
        "  print(\"quantidade de votos:\", n1)\n",
        "  print(\"\")\n",
        "  print(\"\")\n",
        "  \n",
        "if 1 in respostas:\n",
        "  n2 =respostas.count(1)\n",
        "  r2= float(respostas.count(1) * 2.5)\n",
        "  print(r2 ,\"%\", \"das pessoas escolheram\", \"'\",cursos[1],\".'\")\n",
        "  print(\"quantidade de votos\", n2)\n",
        "  print(\"\")\n",
        "  print(\"\")\n",
        "\n",
        "if 2 in respostas:\n",
        "  n3 =respostas.count(2)\n",
        "  r3= float(respostas.count(2) * 2.5)\n",
        "  print(r3 ,\"%\",\"das pessoas escolheram\", \"'\",cursos[2],\".'\")\n",
        "  print(\"quantidade de votos:\", n3)\n",
        "  print(\"\")\n",
        "  print(\"\")\n",
        "\n",
        "print(\"_________________________________________________________\")\n",
        "print(\"\")\n",
        "\n",
        "#Comparando os valores para descobrir qual o item com maior quantidade de votos\n",
        "#Imprimindo o resultado na tela.\n",
        "if r1 > r2 and r1 > r3:\n",
        "  print(\"O curso\"  ,cursos[0], \"foi o escolhido pela votação\" )\n",
        "\n",
        "\n",
        "if r2 > r1 and r2 > r3:\n",
        "  print(\"O curso\" ,cursos[1], \"foi o escolhido pela votação\" )\n",
        "\n",
        "if r3 > r1 and r3 > r2:\n",
        "  print(\"O curso\",cursos[2],\"foi o escolhido pela votação\" )\n",
        "\n",
        "\n"
      ]
    }
  ]
}